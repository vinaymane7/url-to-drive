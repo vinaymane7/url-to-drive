{
  "nbformat": 4,
  "nbformat_minor": 0,
  "metadata": {
    "colab": {
      "name": "url_to_drive",
      "provenance": [],
      "collapsed_sections": []
    },
    "kernelspec": {
      "name": "python3",
      "display_name": "Python 3"
    },
    "language_info": {
      "name": "python"
    }
  },
  "cells": [
    {
      "cell_type": "code",
      "execution_count": 13,
      "metadata": {
        "colab": {
          "base_uri": "https://localhost:8080/",
          "height": 70
        },
        "id": "jG5ouqgYT2FK",
        "outputId": "26f80f9f-f9dd-4016-f0a7-b59f8f64126c"
      },
      "outputs": [
        {
          "output_type": "stream",
          "name": "stdout",
          "text": [
            "Requirement already satisfied: wget in /usr/local/lib/python3.7/dist-packages (3.2)\n",
            "Drive already mounted at /content/drive; to attempt to forcibly remount, call drive.mount(\"/content/drive\", force_remount=True).\n"
          ]
        },
        {
          "output_type": "execute_result",
          "data": {
            "text/plain": [
              "'/content/drive/MyDrive/pf-master (1).zip'"
            ],
            "application/vnd.google.colaboratory.intrinsic+json": {
              "type": "string"
            }
          },
          "metadata": {},
          "execution_count": 13
        }
      ],
      "source": [
        "!pip3 install wget \n",
        "from google.colab import drive\n",
        "import wget\n",
        "drive.mount(\"/content/drive\")\n",
        "\n",
        "url=\"https://codeload.github.com/vinaymane7/pf/zip/refs/heads/master\" # replace with your download url\n",
        "\n",
        "wget.download(url,\"/content/drive/MyDrive\")"
      ]
    }
  ]
}